{
 "cells": [
  {
   "cell_type": "code",
   "execution_count": 4,
   "id": "3be01c42-4b0a-403b-9f16-e4a101cbf3ef",
   "metadata": {},
   "outputs": [
    {
     "ename": "NameError",
     "evalue": "name 'num' is not defined",
     "output_type": "error",
     "traceback": [
      "\u001b[1;31m---------------------------------------------------------------------------\u001b[0m",
      "\u001b[1;31mNameError\u001b[0m                                 Traceback (most recent call last)",
      "Cell \u001b[1;32mIn[4], line 1\u001b[0m\n\u001b[1;32m----> 1\u001b[0m \u001b[38;5;28;01mif\u001b[39;00m \u001b[38;5;241m9\u001b[39m \u001b[38;5;241m<\u001b[39m num \u001b[38;5;241m<\u001b[39m \u001b[38;5;241m99\u001b[39m:\n\u001b[0;32m      3\u001b[0m     \u001b[38;5;28mprint\u001b[39m(\u001b[38;5;124m\"\u001b[39m\u001b[38;5;124mTwo digit number\u001b[39m\u001b[38;5;124m\"\u001b[39m)\n\u001b[0;32m      5\u001b[0m     \u001b[38;5;28;01mif\u001b[39;00m \u001b[38;5;241m99\u001b[39m \u001b[38;5;241m<\u001b[39m num \u001b[38;5;241m<\u001b[39m \u001b[38;5;241m999\u001b[39m:\n",
      "\u001b[1;31mNameError\u001b[0m: name 'num' is not defined"
     ]
    }
   ],
   "source": [
    "if 9 < num < 99:\n",
    "    \n",
    "    print(\"Two digit number\")\n",
    "    \n",
    "    if 99 < num < 999:\n",
    "        \n",
    "        print(\"Three digit number\")\n",
    "        \n",
    "        if 999 < num < 9999:\n",
    "            \n",
    "            print(\"Four digit number\")\n",
    "else:\n",
    "\n",
    "    print(\"number is <= 9 or >= 9999\")\n",
    "    "
   ]
  },
  {
   "cell_type": "code",
   "execution_count": null,
   "id": "3bba36ae-b7cf-4af9-b502-6488eb5b5058",
   "metadata": {},
   "outputs": [],
   "source": []
  }
 ],
 "metadata": {
  "kernelspec": {
   "display_name": "Python 3 (ipykernel)",
   "language": "python",
   "name": "python3"
  },
  "language_info": {
   "codemirror_mode": {
    "name": "ipython",
    "version": 3
   },
   "file_extension": ".py",
   "mimetype": "text/x-python",
   "name": "python",
   "nbconvert_exporter": "python",
   "pygments_lexer": "ipython3",
   "version": "3.11.7"
  }
 },
 "nbformat": 4,
 "nbformat_minor": 5
}
