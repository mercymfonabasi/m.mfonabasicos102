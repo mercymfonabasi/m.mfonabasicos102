{
 "cells": [
  {
   "cell_type": "code",
   "execution_count": 1,
   "id": "2684d98d-f63a-494a-96fb-e521699a73b2",
   "metadata": {},
   "outputs": [
    {
     "name": "stdout",
     "output_type": "stream",
     "text": [
      "three digit number\n"
     ]
    }
   ],
   "source": [
    "num = 100\n",
    "if 9 < num < 99:\n",
    "    print(\"two digit number\")\n",
    "elif 99 < num <999:\n",
    "    print(\"three digit number\")\n",
    "elif 999 < 9999:\n",
    "    print(\"four digit number\")\n",
    "else:\n",
    "    print(\"number is <= 9 or >=9999\")\n",
    "    "
   ]
  },
  {
   "cell_type": "code",
   "execution_count": null,
   "id": "4a5a1e2e-f0c3-4489-9575-7170e5578b4a",
   "metadata": {},
   "outputs": [],
   "source": []
  }
 ],
 "metadata": {
  "kernelspec": {
   "display_name": "Python 3 (ipykernel)",
   "language": "python",
   "name": "python3"
  },
  "language_info": {
   "codemirror_mode": {
    "name": "ipython",
    "version": 3
   },
   "file_extension": ".py",
   "mimetype": "text/x-python",
   "name": "python",
   "nbconvert_exporter": "python",
   "pygments_lexer": "ipython3",
   "version": "3.11.7"
  }
 },
 "nbformat": 4,
 "nbformat_minor": 5
}
