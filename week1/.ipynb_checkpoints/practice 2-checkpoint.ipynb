{
 "cells": [
  {
   "cell_type": "code",
   "execution_count": 11,
   "id": "1ff4b207-a717-48fd-8129-8ea7a38aff1d",
   "metadata": {},
   "outputs": [
    {
     "name": "stdout",
     "output_type": "stream",
     "text": [
      "Hello Guys\n",
      "How are you all?\n",
      "welcome to python programming\n"
     ]
    }
   ],
   "source": [
    "\n",
    "print(\"Hello Guys\")\n",
    "\n",
    "# Second print statement\n",
    "print(\"How are you all?\")\n",
    "\n",
    "#Third print statement\n",
    "print(\"welcome to python programming\")\n"
   ]
  },
  {
   "cell_type": "code",
   "execution_count": null,
   "id": "76d9e758-9eb0-44e1-9ae1-ed532c8a4174",
   "metadata": {},
   "outputs": [],
   "source": []
  },
  {
   "cell_type": "code",
   "execution_count": null,
   "id": "0a92ee54-5135-47b3-b144-61060cd5a05f",
   "metadata": {},
   "outputs": [],
   "source": []
  }
 ],
 "metadata": {
  "kernelspec": {
   "display_name": "Python 3 (ipykernel)",
   "language": "python",
   "name": "python3"
  },
  "language_info": {
   "codemirror_mode": {
    "name": "ipython",
    "version": 3
   },
   "file_extension": ".py",
   "mimetype": "text/x-python",
   "name": "python",
   "nbconvert_exporter": "python",
   "pygments_lexer": "ipython3",
   "version": "3.11.7"
  }
 },
 "nbformat": 4,
 "nbformat_minor": 5
}
