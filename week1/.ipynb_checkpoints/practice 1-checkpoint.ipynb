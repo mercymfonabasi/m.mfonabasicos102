{
 "cells": [
  {
   "cell_type": "code",
   "execution_count": 2,
   "id": "c5f258d1-56de-4744-980f-32f1b23380f5",
   "metadata": {},
   "outputs": [
    {
     "name": "stdout",
     "output_type": "stream",
     "text": [
      "Hello Jay\n"
     ]
    }
   ],
   "source": [
    "print(\"Hello Jay\")"
   ]
  },
  {
   "cell_type": "code",
   "execution_count": 3,
   "id": "f8fc9aad-3cfd-4b09-b155-58c3dc9bb9ec",
   "metadata": {},
   "outputs": [
    {
     "name": "stdin",
     "output_type": "stream",
     "text": [
      "What's your name cycy\n"
     ]
    },
    {
     "name": "stdout",
     "output_type": "stream",
     "text": [
      "Hello, cycy\n"
     ]
    }
   ],
   "source": [
    "person =input(\"What's your name\")\n",
    "print('Hello,',person)\n"
   ]
  },
  {
   "cell_type": "code",
   "execution_count": 4,
   "id": "ed77674f-5be7-48f3-9eec-8272eef9b315",
   "metadata": {},
   "outputs": [
    {
     "name": "stdout",
     "output_type": "stream",
     "text": [
      "12\n"
     ]
    }
   ],
   "source": [
    "age =12\n",
    "print(age)"
   ]
  },
  {
   "cell_type": "code",
   "execution_count": 5,
   "id": "aaaaa1d4-a4c7-46e2-ba09-b954902da5b6",
   "metadata": {},
   "outputs": [
    {
     "name": "stdout",
     "output_type": "stream",
     "text": [
      "42\n"
     ]
    }
   ],
   "source": [
    "x = 6\n",
    "y = x * 7\n",
    "print(y)"
   ]
  },
  {
   "cell_type": "code",
   "execution_count": 6,
   "id": "a4494fe5-b286-4c62-b24e-f47343ef8de8",
   "metadata": {},
   "outputs": [
    {
     "name": "stdout",
     "output_type": "stream",
     "text": [
      "adele Joe\n"
     ]
    }
   ],
   "source": [
    "name = 'adele Joe'\n",
    "print (name)"
   ]
  },
  {
   "cell_type": "code",
   "execution_count": 8,
   "id": "56556a0b-44d6-49aa-9446-eb320a86d135",
   "metadata": {},
   "outputs": [
    {
     "data": {
      "text/plain": [
       "False"
      ]
     },
     "execution_count": 8,
     "metadata": {},
     "output_type": "execute_result"
    }
   ],
   "source": [
    "mango = 5\n",
    "apple = 3\n",
    "apple > mango "
   ]
  },
  {
   "cell_type": "code",
   "execution_count": 9,
   "id": "a3c3cfa2-e752-44f0-9c24-bc5aa0b31689",
   "metadata": {},
   "outputs": [
    {
     "data": {
      "text/plain": [
       "False"
      ]
     },
     "execution_count": 9,
     "metadata": {},
     "output_type": "execute_result"
    }
   ],
   "source": [
    "mango < apple"
   ]
  },
  {
   "cell_type": "code",
   "execution_count": null,
   "id": "6d12430f-18f2-4d50-8567-d93ab782b52c",
   "metadata": {},
   "outputs": [],
   "source": []
  }
 ],
 "metadata": {
  "kernelspec": {
   "display_name": "Python 3 (ipykernel)",
   "language": "python",
   "name": "python3"
  },
  "language_info": {
   "codemirror_mode": {
    "name": "ipython",
    "version": 3
   },
   "file_extension": ".py",
   "mimetype": "text/x-python",
   "name": "python",
   "nbconvert_exporter": "python",
   "pygments_lexer": "ipython3",
   "version": "3.11.7"
  }
 },
 "nbformat": 4,
 "nbformat_minor": 5
}
