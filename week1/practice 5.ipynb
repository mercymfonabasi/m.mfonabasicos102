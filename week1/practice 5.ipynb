{
 "cells": [
  {
   "cell_type": "code",
   "execution_count": 1,
   "id": "663d9d26-3251-4c17-86ea-3620be416402",
   "metadata": {},
   "outputs": [
    {
     "name": "stdout",
     "output_type": "stream",
     "text": [
      "Welcome to CSC 102 Introduction to problem solving\n"
     ]
    }
   ],
   "source": [
    "message = \"Welcome to\"\n",
    "course_code = \"CSC 102\"\n",
    "course_title = \"Introduction to problem solving\"\n",
    "\n",
    "concat = message +' '+ course_code+' '+course_title\n",
    "\n",
    "print(concat)\n"
   ]
  },
  {
   "cell_type": "code",
   "execution_count": null,
   "id": "76b3d63c-009e-488b-96b3-ad363b6a0cb2",
   "metadata": {},
   "outputs": [],
   "source": []
  }
 ],
 "metadata": {
  "kernelspec": {
   "display_name": "Python 3 (ipykernel)",
   "language": "python",
   "name": "python3"
  },
  "language_info": {
   "codemirror_mode": {
    "name": "ipython",
    "version": 3
   },
   "file_extension": ".py",
   "mimetype": "text/x-python",
   "name": "python",
   "nbconvert_exporter": "python",
   "pygments_lexer": "ipython3",
   "version": "3.11.7"
  }
 },
 "nbformat": 4,
 "nbformat_minor": 5
}
