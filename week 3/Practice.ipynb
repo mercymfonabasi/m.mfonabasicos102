{
 "cells": [
  {
   "cell_type": "code",
   "execution_count": 1,
   "id": "c8076da8-a3cc-4b98-99fb-1b5425d5f662",
   "metadata": {},
   "outputs": [
    {
     "name": "stdin",
     "output_type": "stream",
     "text": [
      "Enter your state of origin: calabar\n"
     ]
    },
    {
     "name": "stdout",
     "output_type": "stream",
     "text": [
      "Your state of origin is: calabar\n",
      "The first character is: c\n",
      "The characters starting from 3rd to 5th are: lab\n",
      "The string starting from 3rd character is: labar\n",
      "State of origin two times calabarcalabar\n"
     ]
    }
   ],
   "source": [
    "str = input(\"Enter your state of origin:\")\n",
    "\n",
    "print(\"Your state of origin is:\",str)\n",
    "print(\"The first character is:\",str[0])\n",
    "print(\"The characters starting from 3rd to 5th are:\",str[2:5])\n",
    "print(\"The string starting from 3rd character is:\",str[2:])\n",
    "print(\"State of origin two times\",str*2)"
   ]
  },
  {
   "cell_type": "code",
   "execution_count": 2,
   "id": "52c1f250-2597-4d03-a066-f1d5ae8f87bf",
   "metadata": {},
   "outputs": [
    {
     "name": "stdin",
     "output_type": "stream",
     "text": [
      "Enter mass in kilograms:  83\n"
     ]
    },
    {
     "name": "stdout",
     "output_type": "stream",
     "text": [
      "The energy equivalent to 83.0 kg of mass is 7.459667983515587e+18 joules.\n"
     ]
    }
   ],
   "source": [
    "# Input from user\n",
    "m = float(input(\"Enter mass in kilograms: \"))\n",
    "\n",
    "# Constant value for the speed of light in m/s\n",
    "c =299792458\n",
    "\n",
    "#Calculating energy using Einstein's equatiom\n",
    "energy = m *c **2\n",
    "\n",
    "#Displaying the result\n",
    "print(f\"The energy equivalent to {m} kg of mass is {energy} joules.\")\n"
   ]
  },
  {
   "cell_type": "code",
   "execution_count": 8,
   "id": "6842158e-3c71-42a6-be75-30886cc484c5",
   "metadata": {},
   "outputs": [
    {
     "ename": "SyntaxError",
     "evalue": "invalid syntax (2981867639.py, line 4)",
     "output_type": "error",
     "traceback": [
      "\u001b[1;36m  Cell \u001b[1;32mIn[8], line 4\u001b[1;36m\u001b[0m\n\u001b[1;33m    print(list)             '''Prints complete list'''\u001b[0m\n\u001b[1;37m                            ^\u001b[0m\n\u001b[1;31mSyntaxError\u001b[0m\u001b[1;31m:\u001b[0m invalid syntax\n"
     ]
    }
   ],
   "source": [
    "list = ['Anaconda',786 , 2.23, 'Jupiter', 70.2]\n",
    "shortlist = [321,'Python']\n",
    "\n",
    "print(list)             '''Prints complete list'''\n",
    "print(list[0]           # Prints first element of the list\n",
    "print(list[1:3])        # Prints elements starting from 2nd till 3rd\n",
    "print(list[2:])         '''Prints elements starting from 3rd element'''\n",
    "print(shortlist * 2)    # Prints list two times\n",
    "print(list + shortlist) # Prints concatenated lists\n"
   ]
  },
  {
   "cell_type": "code",
   "execution_count": 12,
   "id": "015fcc9a-a1ea-40af-8268-586159e9eda5",
   "metadata": {},
   "outputs": [
    {
     "name": "stdout",
     "output_type": "stream",
     "text": [
      "('Ekiti', 750, 'oshogbo', 250, 'Akure', 500)\n",
      "500\n",
      "('oshogbo', 250)\n",
      "(250, 'Akure', 500)\n",
      "('Abeokuta', 300, 'ogbomoso', 'Abeokuta', 300, 'ogbomoso', 'Abeokuta', 300, 'ogbomoso')\n"
     ]
    }
   ],
   "source": [
    "tuple = (\"Ekiti\",750,'oshogbo',250,\"Akure\",500)\n",
    "s_tuple = (\"Abeokuta\",300,\"ogbomoso\")\n",
    "\n",
    "# Prints the complete tuple\n",
    "print (tuple)\n",
    "\n",
    "#Prints last elements of the tuple \n",
    "print (tuple[-1])\n",
    "\n",
    "#Prints elements of the tuple starting from 2nd till 3rd\n",
    "print (tuple[2:4])\n",
    "\n",
    "#Prints elements of the tuple starting from 3rd element\n",
    "print (tuple[3:])\n",
    "\n",
    "# Prints the contents of the tuple twice\n",
    "print (s_tuple * 3)\n",
    "\n",
    "#print (tuple +s_tuple)\n",
    "       "
   ]
  },
  {
   "cell_type": "code",
   "execution_count": 18,
   "id": "7cf805d3-3a42-4e7f-b0d8-cf08e94abd0f",
   "metadata": {},
   "outputs": [
    {
     "name": "stdout",
     "output_type": "stream",
     "text": [
      "False\n",
      "False\n",
      "False\n",
      "False\n",
      "True\n"
     ]
    }
   ],
   "source": [
    "# Returns false as a game_1 is not equal to game_2\n",
    "game_1 = 2\n",
    "game_2 = 4\n",
    "print(bool(game_1 == game_2))\n",
    "#or\n",
    "print(game_1 == game_2)\n",
    "\n",
    "#Returns False as val is None\n",
    "val = None\n",
    "print(bool(val))\n",
    "\n",
    "#Returns false as a num is an empty sequence\n",
    "num =()\n",
    "print(bool(num))\n",
    "\n",
    "#Returns true as age is boolean\n",
    "age = True\n",
    "print(bool(age))"
   ]
  },
  {
   "cell_type": "code",
   "execution_count": 21,
   "id": "1021adb6-1116-4bf2-9a6a-05284d06a8ef",
   "metadata": {},
   "outputs": [
    {
     "name": "stdout",
     "output_type": "stream",
     "text": [
      "Grade = 70\n",
      "GPA = 4\n",
      "CGPA = 4\n"
     ]
    }
   ],
   "source": [
    "# Convert to int\n",
    "\n",
    "grade = int(70)      #grade will be 70\n",
    "gpa = int(4.9)       #gpa will be 4.9\n",
    "cgpa = int(\"4\")     #cgpa will be 4\n",
    "\n",
    "print(f\"Grade = {grade}\")\n",
    "print(f\"GPA = {gpa}\")\n",
    "print(f\"CGPA = {cgpa}\")\n"
   ]
  },
  {
   "cell_type": "code",
   "execution_count": 23,
   "id": "206c099f-fb57-4069-97c9-5c2ed3e462e2",
   "metadata": {},
   "outputs": [
    {
     "name": "stdout",
     "output_type": "stream",
     "text": [
      "Grade = 97.0\n",
      "GPA = 5.0\n",
      "CGPA = 4.7\n"
     ]
    }
   ],
   "source": [
    "# convert to float\n",
    "\n",
    "grade = float(97)\n",
    "gpa = float(5)\n",
    "cgpa = float(\"4.7\")\n",
    "\n",
    "print(f\"Grade = {grade}\")\n",
    "print(f\"GPA = {gpa}\")\n",
    "print(f\"CGPA = {cgpa}\")"
   ]
  },
  {
   "cell_type": "code",
   "execution_count": null,
   "id": "e0f02e2a-603a-4e44-980b-da1e6150ac05",
   "metadata": {},
   "outputs": [],
   "source": []
  }
 ],
 "metadata": {
  "kernelspec": {
   "display_name": "Python 3 (ipykernel)",
   "language": "python",
   "name": "python3"
  },
  "language_info": {
   "codemirror_mode": {
    "name": "ipython",
    "version": 3
   },
   "file_extension": ".py",
   "mimetype": "text/x-python",
   "name": "python",
   "nbconvert_exporter": "python",
   "pygments_lexer": "ipython3",
   "version": "3.11.7"
  }
 },
 "nbformat": 4,
 "nbformat_minor": 5
}
